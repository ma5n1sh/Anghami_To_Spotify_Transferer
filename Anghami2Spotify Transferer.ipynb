{
 "cells": [
  {
   "cell_type": "markdown",
   "id": "722ee8b6",
   "metadata": {},
   "source": [
    "<u><font size=\"6\">**Anghami to Spotify Transfer**</font></u>"
   ]
  },
  {
   "cell_type": "markdown",
   "id": "0d831b84",
   "metadata": {},
   "source": [
    "<font size=\"5\"><u>Instructions</u></font>\n",
    "<font size=\"4\">\n",
    "    \n",
    "1- Open anghami web on the playlist(or downloads and likes) you want to copy and scroll to the bottom so that all the songs in that playlist are loaded and visible \n",
    "\n",
    "2- Right click and save as Html file and remeber its path\n",
    "\n",
    "3- Go to https://developer.spotify.com/ and go to dashboard and register your account as a developper account\n",
    "\n",
    "4- Create a new app after registering you account as a developper account 4\n",
    "\n",
    "5- After creating the app copy your client id, client secret(you might need to click on show client secret to see it)\n",
    "\n",
    "6- Click on edit settings and set the redirect url to http://127.0.0.1:8080 \n",
    "\n",
    "7- Go to your spotify account and copy your account username \n",
    "\n",
    "8- Populate the variables in the following cell with the information you just copied and run all \n",
    "</font>"
   ]
  },
  {
   "cell_type": "code",
   "execution_count": null,
   "id": "d6e09c5b",
   "metadata": {},
   "outputs": [],
   "source": [
    "html_path =\"*populate here*\" #the anghami playlist saved html file path\n",
    "client_id = \"*populate here*\" #the client id you copied in step 4\n",
    "client_secret = \"*populate here*\" #the client secret you copied in step 4\n",
    "redirect_url = \"http://127.0.0.1:8080\"\n",
    "username = \"*populate here*\" #your spotify username you copied in step 7\n",
    "spotify_playlist_name = \"*populate here*\" #name for the new playlist you're creating on spotify to copy music to \n",
    "save_to_text = True #set to False if you don't want to export the playlist to a txt file\n",
    "txt_save_path = \"*populate here*\" #the path you want to export the txt playlist to\n",
    "txt_song_artist_seperator = ' ' #the seperator between the song nam and the artist in the saved txt file "
   ]
  },
  {
   "cell_type": "markdown",
   "id": "0d3b416d",
   "metadata": {},
   "source": [
    "## basic installations and imports"
   ]
  },
  {
   "cell_type": "code",
   "execution_count": null,
   "id": "df672180",
   "metadata": {
    "scrolled": true
   },
   "outputs": [],
   "source": [
    "pip install beautifulsoup4\n",
    "pip install spotipy"
   ]
  },
  {
   "cell_type": "code",
   "execution_count": null,
   "id": "ae511539",
   "metadata": {},
   "outputs": [],
   "source": [
    "import requests\n",
    "from bs4 import BeautifulSoup\n",
    "from tqdm import tqdm\n",
    "import spotipy\n",
    "import json\n",
    "from spotipy.oauth2 import SpotifyOAuth"
   ]
  },
  {
   "cell_type": "markdown",
   "id": "858031bd",
   "metadata": {},
   "source": [
    "## Reading and parsing HTML file"
   ]
  },
  {
   "cell_type": "code",
   "execution_count": null,
   "id": "3a629bdb",
   "metadata": {},
   "outputs": [],
   "source": [
    " with open(html_path ,encoding=\"utf8\") as f:\n",
    "    content = f.read()\n",
    "    soup = BeautifulSoup(content, 'html.parser')"
   ]
  },
  {
   "cell_type": "code",
   "execution_count": null,
   "id": "eed4db7c",
   "metadata": {},
   "outputs": [],
   "source": [
    "classLst=[\"cell cell-title\",\"cell cell-title marquee\"]\n",
    "mydivs = soup.find_all(\"div\", class_=classLst)\n",
    "songs=[]\n",
    "print(\"Reading Songs\")\n",
    "for job_element in tqdm(mydivs):\n",
    "    title_element = job_element.find(\"span\")\n",
    "    songs.append(title_element.text)\n",
    "mydivsart = soup.find_all(\"div\", {\"class\": \"cell cell-artist\"})\n",
    "artists=[]\n",
    "print(\"Reading Artists\")\n",
    "for job_element in tqdm(mydivsart):\n",
    "    artists.append(job_element.text)\n",
    "if len(songs) != len(artists):\n",
    "    print(\"Reading Erorr\")\n",
    "else:\n",
    "    print(\"Reading successful\")"
   ]
  },
  {
   "cell_type": "markdown",
   "id": "be97c427",
   "metadata": {},
   "source": [
    "<font size=\"4\">**Optional** Print the list</font>"
   ]
  },
  {
   "cell_type": "code",
   "execution_count": null,
   "id": "5524e9d9",
   "metadata": {
    "scrolled": true
   },
   "outputs": [],
   "source": [
    "for i in range(len(songs)):\n",
    "    print(songs[i]+ txt_song_artist_seperator +artists[i])"
   ]
  },
  {
   "cell_type": "markdown",
   "id": "0b78e6fe",
   "metadata": {},
   "source": [
    "<font size=\"4\">Write To File</font>"
   ]
  },
  {
   "cell_type": "code",
   "execution_count": null,
   "id": "fa4f16bd",
   "metadata": {},
   "outputs": [],
   "source": [
    "if save_to_text:\n",
    "    with open(txt_save_path, 'w',encoding=\"utf8\") as fp:\n",
    "        for i in tqdm(range(len(songs))):\n",
    "            # write each item on a new line\n",
    "            fp.write(songs[i]+txt_song_artist_seperator+artists[i]+'\\n')\n",
    "        print('Done')"
   ]
  },
  {
   "cell_type": "code",
   "execution_count": null,
   "id": "cf86e9a4",
   "metadata": {},
   "outputs": [],
   "source": [
    "scope='playlist-modify-public'\n",
    "sp = spotipy.Spotify(auth_manager=SpotifyOAuth(client_id=client_id,\n",
    "                                               client_secret=client_secret,\n",
    "                                               redirect_uri=redirect_url,\n",
    "                                               scope=scope,\n",
    "                                              username=username))\n",
    "sp.user_playlist_create(user=username,name=spotify_playlist_name,public=True,description=\"imported from Anghami\",)"
   ]
  },
  {
   "cell_type": "code",
   "execution_count": null,
   "id": "956c7406",
   "metadata": {},
   "outputs": [],
   "source": [
    "notfound=[]\n",
    "playlist=sp.user_playlists(user=username)['items'][0]['id']\n",
    "for i in tqdm(range(len(songs))):\n",
    "    try:\n",
    "        res=sp.search(q=songs[i]+\" \"+artists[i],type='track',limit=1)\n",
    "    except:\n",
    "        notfound.append(songs[i]+\" \"+artists[i])\n",
    "    else:\n",
    "        if len(res['tracks']['items'])==0:\n",
    "            notfound.append(songs[i]+\" \"+artists[i])\n",
    "        else:\n",
    "            uri=res['tracks']['items'][0]['uri']\n",
    "            sp.user_playlist_add_tracks(user=username,playlist_id=playlist,tracks=[uri])\n",
    "\n",
    "        "
   ]
  }
 ],
 "metadata": {
  "kernelspec": {
   "display_name": "Python 3 (ipykernel)",
   "language": "python",
   "name": "python3"
  },
  "language_info": {
   "codemirror_mode": {
    "name": "ipython",
    "version": 3
   },
   "file_extension": ".py",
   "mimetype": "text/x-python",
   "name": "python",
   "nbconvert_exporter": "python",
   "pygments_lexer": "ipython3",
   "version": "3.9.12"
  }
 },
 "nbformat": 4,
 "nbformat_minor": 5
}
